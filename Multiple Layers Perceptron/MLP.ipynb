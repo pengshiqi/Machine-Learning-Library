{
 "cells": [
  {
   "cell_type": "markdown",
   "metadata": {
    "deletable": true,
    "editable": true
   },
   "source": [
    "### Multiple Layers Perceptron"
   ]
  },
  {
   "cell_type": "markdown",
   "metadata": {
    "deletable": true,
    "editable": true
   },
   "source": [
    "Import libraries and define some constants."
   ]
  },
  {
   "cell_type": "code",
   "execution_count": 15,
   "metadata": {
    "collapsed": false,
    "deletable": true,
    "editable": true
   },
   "outputs": [],
   "source": [
    "import scipy.io as scio  \n",
    "import numpy as np \n",
    "import tensorflow as tf\n",
    "  \n",
    "TRAIN_DATA_PATH = './train_test/train_data.mat' \n",
    "TRAIN_LABEL_PATH = './train_test/train_label.mat' \n",
    "TEST_DATA_PATH = './train_test/test_data.mat' \n",
    "TEST_LABEL_PATH = './train_test/test_label.mat' \n",
    "\n",
    "LEARNING_RATE = 0.01\n",
    "TRAINING_EPOCHS = 200\n",
    "BATCH_SIZE = 100\n",
    "DISPLAY_STEP = 5\n",
    "\n",
    "BETA = 0.01\n",
    "\n",
    "INPUT_LAYERS_D = 310\n",
    "HIDDEN_LAYERS_D = 20\n",
    "OUTPUT_LAYERS_D = 3 "
   ]
  },
  {
   "cell_type": "markdown",
   "metadata": {
    "deletable": true,
    "editable": true
   },
   "source": [
    "Load data and preprocess the label to one-hot representation."
   ]
  },
  {
   "cell_type": "code",
   "execution_count": 16,
   "metadata": {
    "collapsed": false,
    "deletable": true,
    "editable": true
   },
   "outputs": [],
   "source": [
    "# type: numpy.ndarray\n",
    "train_data = scio.loadmat(TRAIN_DATA_PATH)['train_data']\n",
    "train_label = scio.loadmat(TRAIN_LABEL_PATH)['train_label']\n",
    "test_data = scio.loadmat(TEST_DATA_PATH)['test_data']\n",
    "test_label = scio.loadmat(TEST_LABEL_PATH)['test_label']\n",
    "\n",
    "# Transfrom label to one-hot representation\n",
    "train_label = [x[0] + 1 for x in train_label]\n",
    "train_label = tf.one_hot(train_label, depth = 3, on_value=None, off_value=None, axis=None, dtype=None, name=None)\n",
    "\n",
    "test_label = [x[0] + 1 for x in test_label]\n",
    "test_label = tf.one_hot(test_label, depth = 3, on_value=None, off_value=None, axis=None, dtype=None, name=None)\n",
    "\n",
    "with tf.Session() as sess:\n",
    "    train_label = sess.run(train_label)\n",
    "    test_label = sess.run(test_label)\n",
    "    \n",
    "# normalize the train and test data\n",
    "def normalize(X):\n",
    "    mean = X.mean(axis=0)\n",
    "    var = X.std(axis=0)\n",
    "    return (X - mean) / var, mean, var\n",
    "\n",
    "train_data, train_mean, train_var = normalize(train_data)\n",
    "test_data = (test_data - train_mean) / train_var"
   ]
  },
  {
   "cell_type": "code",
   "execution_count": 17,
   "metadata": {
    "collapsed": true,
    "deletable": true,
    "editable": true
   },
   "outputs": [],
   "source": [
    "# tf Graph input\n",
    "X = tf.placeholder(\"float\", [None, INPUT_LAYERS_D])\n",
    "Y = tf.placeholder(\"float\", [None, OUTPUT_LAYERS_D])\n",
    "\n",
    "# Store layers weight & bias\n",
    "weight = {\n",
    "    'h': tf.Variable(tf.random_normal([INPUT_LAYERS_D, HIDDEN_LAYERS_D])),\n",
    "    'out': tf.Variable(tf.random_normal([HIDDEN_LAYERS_D, OUTPUT_LAYERS_D]))\n",
    "}\n",
    "bias = {\n",
    "    'h': tf.Variable(tf.zeros([HIDDEN_LAYERS_D])),\n",
    "    'out': tf.Variable(tf.zeros([OUTPUT_LAYERS_D]))\n",
    "}"
   ]
  },
  {
   "cell_type": "markdown",
   "metadata": {
    "deletable": true,
    "editable": true
   },
   "source": [
    "Create model"
   ]
  },
  {
   "cell_type": "code",
   "execution_count": 18,
   "metadata": {
    "collapsed": true,
    "deletable": true,
    "editable": true
   },
   "outputs": [],
   "source": [
    "def multilayer_perceptron(x, weight, bias):\n",
    "    hidden_layer = tf.add(tf.matmul(x, weight['h']), bias['h'])\n",
    "    hidden_layer = tf.nn.relu(hidden_layer)\n",
    "\n",
    "    out_layer = tf.matmul(hidden_layer, weight['out']) + bias['out']\n",
    "\n",
    "    return out_layer"
   ]
  },
  {
   "cell_type": "code",
   "execution_count": 19,
   "metadata": {
    "collapsed": false,
    "deletable": true,
    "editable": true
   },
   "outputs": [],
   "source": [
    "# Model\n",
    "model = multilayer_perceptron(X, weight, bias)\n",
    "\n",
    "# Loss Function with l2 regularization\n",
    "loss = tf.reduce_mean(tf.nn.softmax_cross_entropy_with_logits(logits=model, labels=Y) + \\\n",
    "                     tf.nn.l2_loss(weight['h']) + \\\n",
    "                     tf.nn.l2_loss(weight['out']) + \\\n",
    "                     tf.nn.l2_loss(bias['h']) + \\\n",
    "                     tf.nn.l2_loss(bias['out']))\n",
    "\n",
    "# Adam Optimizer (or GradientDescentOptimizer)\n",
    "optimizer = tf.train.AdamOptimizer(learning_rate=LEARNING_RATE).minimize(loss)"
   ]
  },
  {
   "cell_type": "code",
   "execution_count": 20,
   "metadata": {
    "collapsed": false,
    "deletable": true,
    "editable": true
   },
   "outputs": [
    {
     "name": "stdout",
     "output_type": "stream",
     "text": [
      "Epoch: 0001 Training Loss=3101.429687500\n",
      "Epoch: 0006 Training Loss=2279.263305664\n",
      "Epoch: 0011 Training Loss=1658.153289795\n",
      "Epoch: 0016 Training Loss=1209.387878418\n",
      "Epoch: 0021 Training Loss=886.836029053\n",
      "Epoch: 0026 Training Loss=653.780197144\n",
      "Epoch: 0031 Training Loss=484.298896790\n",
      "Epoch: 0036 Training Loss=360.333839417\n",
      "Epoch: 0041 Training Loss=269.188430786\n",
      "Epoch: 0046 Training Loss=201.853725433\n",
      "Epoch: 0051 Training Loss=151.909801483\n",
      "Epoch: 0056 Training Loss=114.718196869\n",
      "Epoch: 0061 Training Loss=86.922304153\n",
      "Epoch: 0066 Training Loss=66.074010849\n",
      "Epoch: 0071 Training Loss=50.380745888\n",
      "Epoch: 0076 Training Loss=38.540727615\n",
      "Epoch: 0081 Training Loss=29.586069584\n",
      "Epoch: 0086 Training Loss=22.798184872\n",
      "Epoch: 0091 Training Loss=17.639370918\n",
      "Epoch: 0096 Training Loss=13.709613800\n",
      "Epoch: 0101 Training Loss=10.711270332\n",
      "Epoch: 0106 Training Loss=8.416409492\n",
      "Epoch: 0111 Training Loss=6.660131335\n",
      "Epoch: 0116 Training Loss=5.312017679\n",
      "Epoch: 0121 Training Loss=4.275822282\n",
      "Epoch: 0126 Training Loss=3.476227880\n",
      "Epoch: 0131 Training Loss=2.863911867\n",
      "Epoch: 0136 Training Loss=2.391398609\n",
      "Epoch: 0141 Training Loss=2.029124916\n",
      "Epoch: 0146 Training Loss=1.746979058\n",
      "Epoch: 0151 Training Loss=1.533809185\n",
      "Epoch: 0156 Training Loss=1.362047523\n",
      "Epoch: 0161 Training Loss=1.235631853\n",
      "Epoch: 0166 Training Loss=1.137377322\n",
      "Epoch: 0171 Training Loss=1.059435815\n",
      "Epoch: 0176 Training Loss=1.004490599\n",
      "Epoch: 0181 Training Loss=0.957713157\n",
      "Epoch: 0186 Training Loss=0.922820643\n",
      "Epoch: 0191 Training Loss=0.900419593\n",
      "Epoch: 0196 Training Loss=0.875023395\n",
      "Optimization Finished!\n",
      "Test Accuracy: 0.83090377\n"
     ]
    }
   ],
   "source": [
    "# Initializing the variables\n",
    "init = tf.global_variables_initializer()\n",
    "\n",
    "with tf.Session() as sess:\n",
    "    sess.run(init)\n",
    "    \n",
    "    loss_vec = []\n",
    "    \n",
    "    # Training cycle\n",
    "    for epoch in range(TRAINING_EPOCHS):\n",
    "        avg_cost = 0.\n",
    "        total_batch = int(train_data.shape[0] / BATCH_SIZE)\n",
    "\n",
    "        for i in range(total_batch):\n",
    "            batch_x = train_data[i * BATCH_SIZE: (i + 1) * BATCH_SIZE]\n",
    "            batch_y = train_label[i * BATCH_SIZE: (i + 1) * BATCH_SIZE]\n",
    "            \n",
    "        \n",
    "            # Run optimization op (backprop) and cost op (to get loss value)\n",
    "            _, c = sess.run([optimizer, loss], feed_dict={X: batch_x, Y: batch_y})\n",
    "            \n",
    "            # Compute average loss\n",
    "            avg_cost += c / total_batch\n",
    "\n",
    "        loss_vec.append(avg_cost)\n",
    "        \n",
    "        # Display logs per epoch step\n",
    "        if epoch % DISPLAY_STEP == 0:\n",
    "            print(\"Epoch:\", '%04d' % (epoch+1), \n",
    "                  \"Training Loss={:.9f}\".format(avg_cost))\n",
    "\n",
    "    print(\"Optimization Finished!\")\n",
    "    \n",
    "    # Test model\n",
    "    pred = tf.nn.softmax(model)  # Apply softmax to logits\n",
    "    correct_prediction = tf.equal(tf.argmax(model, 1), tf.argmax(Y, 1))\n",
    "    # Calculate accuracy\n",
    "    accuracy = tf.reduce_mean(tf.cast(correct_prediction, \"float\"))\n",
    "\n",
    "    print(\"Test Accuracy:\", accuracy.eval({X: test_data, Y: test_label}))"
   ]
  },
  {
   "cell_type": "code",
   "execution_count": 21,
   "metadata": {
    "collapsed": false,
    "deletable": true,
    "editable": true
   },
   "outputs": [
    {
     "data": {
      "image/png": "[encoded data removed]",
      "text/plain": [
       "<matplotlib.figure.Figure at 0x1206497f0>"
      ]
     },
     "metadata": {},
     "output_type": "display_data"
    }
   ],
   "source": [
    "# Plot the loss graph\n",
    "import matplotlib.pyplot as plt\n",
    "% matplotlib inline\n",
    "\n",
    "plt.plot(loss_vec)\n",
    "plt.title('Learning rate {}'.format(LEARNING_RATE))\n",
    "plt.ylabel('training loss')\n",
    "plt.xlabel('epoch')\n",
    "plt.show()\n",
    "# plt.savefig('./training_loss.png', dpi=200)"
   ]
  },
  {
   "cell_type": "code",
   "execution_count": null,
   "metadata": {
    "collapsed": true,
    "deletable": true,
    "editable": true
   },
   "outputs": [],
   "source": []
  }
 ],
 "metadata": {
  "kernelspec": {
   "display_name": "Python 3",
   "language": "python",
   "name": "python3"
  },
  "language_info": {
   "codemirror_mode": {
    "name": "ipython",
    "version": 3
   },
   "file_extension": ".py",
   "mimetype": "text/x-python",
   "name": "python",
   "nbconvert_exporter": "python",
   "pygments_lexer": "ipython3",
   "version": "3.5.0"
  }
 },
 "nbformat": 4,
 "nbformat_minor": 2
}
